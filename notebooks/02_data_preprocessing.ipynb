{
 "cells": [
  {
   "cell_type": "markdown",
   "metadata": {},
   "source": [
    "**Download Snowflake Embedding Data**"
   ]
  },
  {
   "cell_type": "code",
   "execution_count": 2,
   "metadata": {},
   "outputs": [],
   "source": [
    "cur = conn.cursor()\n",
    "cur.execute(\"\"\"\n",
    "select * from SNOWFLAKE_EMBEDDING_TRIAGE_FINAL\n",
    "\"\"\")\n",
    "\n",
    "# Fetch all the results from the query\n",
    "results = cur.fetchall()\n",
    "\n",
    "# Get the column names from the cursor description\n",
    "column_names = [desc[0] for desc in cur.description]\n",
    "\n",
    "# Convert the results into a pandas DataFrame\n",
    "df = pd.DataFrame(results, columns=column_names)"
   ]
  },
  {
   "cell_type": "code",
   "execution_count": 4,
   "metadata": {},
   "outputs": [],
   "source": [
    "df.head().to_csv('snowflake_embedding.csv', index=False)    "
   ]
  },
  {
   "cell_type": "markdown",
   "metadata": {},
   "source": [
    "**Data Preparation**"
   ]
  },
  {
   "cell_type": "markdown",
   "metadata": {},
   "source": [
    "- Use only the VALIDATED_CATEGORY (because many of the original data could be incorrect)"
   ]
  },
  {
   "cell_type": "code",
   "execution_count": 27,
   "metadata": {},
   "outputs": [],
   "source": [
    "# Read conversation_dataset, only remain CONVERSATION_ID and VALIDATED_CATEGORY\n",
    "cur = conn.cursor()\n",
    "cur.execute(\"\"\"\n",
    "select * from class_shared_data.class_dataset.conversation_dataset\n",
    "\"\"\")\n",
    "\n",
    "# Fetch all the results from the query\n",
    "results = cur.fetchall()\n",
    "\n",
    "# Get the column names from the cursor description\n",
    "column_names = [desc[0] for desc in cur.description]\n",
    "\n",
    "# Convert the results into a pandas DataFrame\n",
    "conversation_df = pd.DataFrame(results, columns=column_names)\n",
    "\n",
    "conversation_df = conversation_df[['CONVERSATION_ID', 'VALIDATED_CATEGORY']]"
   ]
  },
  {
   "cell_type": "code",
   "execution_count": null,
   "metadata": {},
   "outputs": [
    {
     "name": "stdout",
     "output_type": "stream",
     "text": [
      "205099\n"
     ]
    }
   ],
   "source": [
    "# Left merge df and conversation_df based on 'CONVERSATION_ID'\n",
    "df = pd.merge(df, conversation_df, on='CONVERSATION_ID', how='left')\n",
    "\n",
    "# Only remain the rows with VALIDATED_CATEGORY == True or SIMPLIFIED_CATEGORY == OTHER\n",
    "df = df[(df['VALIDATED_CATEGORY'] == True) | (df['SIMPLIFIED_CATEGORY'] == 'OTHER')]\n",
    "\n",
    "print(len(df))"
   ]
  },
  {
   "cell_type": "markdown",
   "metadata": {},
   "source": [
    "- Only use MESSAGE where there are less masking (less than 20%)"
   ]
  },
  {
   "cell_type": "code",
   "execution_count": 30,
   "metadata": {},
   "outputs": [
    {
     "name": "stdout",
     "output_type": "stream",
     "text": [
      "187144\n"
     ]
    }
   ],
   "source": [
    "# Keep only rows with 'MESSAGE_PLUS_TRIAGE' where '*' < 20%\n",
    "df = df[df['MESSAGE_PLUS_TRIAGE'].str.count(r'\\*') < (0.2 * df['MESSAGE_PLUS_TRIAGE'].str.len())]\n",
    "\n",
    "print(len(df))"
   ]
  },
  {
   "cell_type": "code",
   "execution_count": 31,
   "metadata": {},
   "outputs": [
    {
     "data": {
      "text/plain": [
       "SIMPLIFIED_CATEGORY\n",
       "OTHER                                              161517\n",
       "password_reset                                       8736\n",
       "add_user OR remove_user                              4691\n",
       "os_update                                            4648\n",
       "shipping_request                                     2676\n",
       "add_user_to_channel OR remove_user_from_channel      2169\n",
       "add_license OR remove_license                        1668\n",
       "reset_mfa                                            1039\n",
       "Name: count, dtype: int64"
      ]
     },
     "execution_count": 31,
     "metadata": {},
     "output_type": "execute_result"
    }
   ],
   "source": [
    "# print SIMPLIFIED_CATEGORY value counts\n",
    "df['SIMPLIFIED_CATEGORY'].value_counts()"
   ]
  },
  {
   "cell_type": "code",
   "execution_count": null,
   "metadata": {},
   "outputs": [
    {
     "name": "stdout",
     "output_type": "stream",
     "text": [
      "Other: 161517\n",
      "Non-Other: 25627\n",
      "Total: 187144\n"
     ]
    }
   ],
   "source": [
    "# Print SIMPLIFIED_CATEGORY 'OTHER' and non-'OTHER' value counts\n",
    "print('Other:', df['SIMPLIFIED_CATEGORY'].value_counts()['OTHER'])\n",
    "print('Non-Other:', df['SIMPLIFIED_CATEGORY'].value_counts().sum() - df['SIMPLIFIED_CATEGORY'].value_counts()['OTHER'])\n",
    "print('Total:', df['SIMPLIFIED_CATEGORY'].value_counts().sum())"
   ]
  },
  {
   "cell_type": "code",
   "execution_count": null,
   "metadata": {},
   "outputs": [
    {
     "name": "stdout",
     "output_type": "stream",
     "text": [
      "<class 'list'> 1024\n"
     ]
    }
   ],
   "source": [
    "# Output the type and len of first embedding\n",
    "print(type(df['MULTILINGUAL_E5LARGE_EMBEDDING'].iloc[0]), len(df['MULTILINGUAL_E5LARGE_EMBEDDING'].iloc[0]))"
   ]
  },
  {
   "cell_type": "code",
   "execution_count": 38,
   "metadata": {},
   "outputs": [
    {
     "data": {
      "text/html": [
       "<div>\n",
       "<style scoped>\n",
       "    .dataframe tbody tr th:only-of-type {\n",
       "        vertical-align: middle;\n",
       "    }\n",
       "\n",
       "    .dataframe tbody tr th {\n",
       "        vertical-align: top;\n",
       "    }\n",
       "\n",
       "    .dataframe thead th {\n",
       "        text-align: right;\n",
       "    }\n",
       "</style>\n",
       "<table border=\"1\" class=\"dataframe\">\n",
       "  <thead>\n",
       "    <tr style=\"text-align: right;\">\n",
       "      <th></th>\n",
       "      <th>CONVERSATION_ID</th>\n",
       "      <th>SIMPLIFIED_CATEGORY</th>\n",
       "      <th>CONVERSATION_CHANNEL</th>\n",
       "      <th>MESSAGE_PLUS_TRIAGE</th>\n",
       "      <th>MULTILINGUAL_E5LARGE_EMBEDDING</th>\n",
       "      <th>VALIDATED_CATEGORY</th>\n",
       "    </tr>\n",
       "  </thead>\n",
       "  <tbody>\n",
       "    <tr>\n",
       "      <th>0</th>\n",
       "      <td>fc6bf2cb796de4a21c69a47d7cb1b7c816ce2c39</td>\n",
       "      <td>add_user OR remove_user</td>\n",
       "      <td>chat</td>\n",
       "      <td>Hello, we had a new onboarding of ****** -- h...</td>\n",
       "      <td>[0.010034076869487762, -0.007666395977139473, ...</td>\n",
       "      <td>True</td>\n",
       "    </tr>\n",
       "    <tr>\n",
       "      <th>1</th>\n",
       "      <td>311db9f15234e58b0223e34d0b8d43b2e5ee5601</td>\n",
       "      <td>OTHER</td>\n",
       "      <td>email</td>\n",
       "      <td>I am going to take ****’s laptop and replace ...</td>\n",
       "      <td>[0.026209674775600433, 0.01610388420522213, -0...</td>\n",
       "      <td>False</td>\n",
       "    </tr>\n",
       "    <tr>\n",
       "      <th>2</th>\n",
       "      <td>8dca317f750535d770136a489edf16f761f71d7e</td>\n",
       "      <td>OTHER</td>\n",
       "      <td>email</td>\n",
       "      <td>Hi,  I just got a new phone and don’t know my...</td>\n",
       "      <td>[0.015950312837958336, -0.027684127911925316, ...</td>\n",
       "      <td>False</td>\n",
       "    </tr>\n",
       "    <tr>\n",
       "      <th>4</th>\n",
       "      <td>c3497b05d9b68df428aa47e133dada46d41fc523</td>\n",
       "      <td>OTHER</td>\n",
       "      <td>chat</td>\n",
       "      <td>My request type is APPLICATION, There are some...</td>\n",
       "      <td>[0.034831006079912186, -0.0027348522562533617,...</td>\n",
       "      <td>False</td>\n",
       "    </tr>\n",
       "    <tr>\n",
       "      <th>11</th>\n",
       "      <td>c91e986c8008cbc2d81dfe8b29ee4b1a26307016</td>\n",
       "      <td>OTHER</td>\n",
       "      <td>chat</td>\n",
       "      <td>My request type is NETWORK, There are some add...</td>\n",
       "      <td>[0.024984337389469147, -0.020768102258443832, ...</td>\n",
       "      <td>False</td>\n",
       "    </tr>\n",
       "  </tbody>\n",
       "</table>\n",
       "</div>"
      ],
      "text/plain": [
       "                             CONVERSATION_ID      SIMPLIFIED_CATEGORY  \\\n",
       "0   fc6bf2cb796de4a21c69a47d7cb1b7c816ce2c39  add_user OR remove_user   \n",
       "1   311db9f15234e58b0223e34d0b8d43b2e5ee5601                    OTHER   \n",
       "2   8dca317f750535d770136a489edf16f761f71d7e                    OTHER   \n",
       "4   c3497b05d9b68df428aa47e133dada46d41fc523                    OTHER   \n",
       "11  c91e986c8008cbc2d81dfe8b29ee4b1a26307016                    OTHER   \n",
       "\n",
       "   CONVERSATION_CHANNEL                                MESSAGE_PLUS_TRIAGE  \\\n",
       "0                  chat   Hello, we had a new onboarding of ****** -- h...   \n",
       "1                 email   I am going to take ****’s laptop and replace ...   \n",
       "2                 email   Hi,  I just got a new phone and don’t know my...   \n",
       "4                  chat  My request type is APPLICATION, There are some...   \n",
       "11                 chat  My request type is NETWORK, There are some add...   \n",
       "\n",
       "                       MULTILINGUAL_E5LARGE_EMBEDDING  VALIDATED_CATEGORY  \n",
       "0   [0.010034076869487762, -0.007666395977139473, ...                True  \n",
       "1   [0.026209674775600433, 0.01610388420522213, -0...               False  \n",
       "2   [0.015950312837958336, -0.027684127911925316, ...               False  \n",
       "4   [0.034831006079912186, -0.0027348522562533617,...               False  \n",
       "11  [0.024984337389469147, -0.020768102258443832, ...               False  "
      ]
     },
     "execution_count": 38,
     "metadata": {},
     "output_type": "execute_result"
    }
   ],
   "source": [
    "df.head()"
   ]
  },
  {
   "cell_type": "code",
   "execution_count": null,
   "metadata": {},
   "outputs": [],
   "source": [
    "# Change MULTILINGUAL_E5LARGE_EMBEDDING to <class 'numpy.ndarray'>\n",
    "# df['MULTILINGUAL_E5LARGE_EMBEDDING'] = df['MULTILINGUAL_E5LARGE_EMBEDDING'].apply(lambda x: np.fromstring(x[1:-1], sep=',').astype(np.float32))\n",
    "df['MULTILINGUAL_E5LARGE_EMBEDDING'] = df['MULTILINGUAL_E5LARGE_EMBEDDING'].apply(lambda x: np.array(x, dtype=np.float32))"
   ]
  },
  {
   "cell_type": "code",
   "execution_count": 42,
   "metadata": {},
   "outputs": [
    {
     "name": "stdout",
     "output_type": "stream",
     "text": [
      "<class 'numpy.ndarray'> 1024\n"
     ]
    }
   ],
   "source": [
    "# output the type and len of first embedding\n",
    "print(type(df['MULTILINGUAL_E5LARGE_EMBEDDING'].iloc[0]), len(df['MULTILINGUAL_E5LARGE_EMBEDDING'].iloc[0]))"
   ]
  },
  {
   "cell_type": "code",
   "execution_count": 43,
   "metadata": {},
   "outputs": [],
   "source": [
    "# Save embeddings separately as a .npy file to retain ndarray format\n",
    "np.save('multilingual_embeddings.npy', np.stack(df['MULTILINGUAL_E5LARGE_EMBEDDING'].values))\n",
    "\n",
    "# Save the DataFrame to CSV without the embeddings column\n",
    "df.drop(columns=['MULTILINGUAL_E5LARGE_EMBEDDING']).to_csv('snowflake_embedding_less_asterisk_cleaned.csv', index=False)"
   ]
  }
 ],
 "metadata": {
  "kernelspec": {
   "display_name": "Python 3",
   "language": "python",
   "name": "python3"
  },
  "language_info": {
   "codemirror_mode": {
    "name": "ipython",
    "version": 3
   },
   "file_extension": ".py",
   "mimetype": "text/x-python",
   "name": "python",
   "nbconvert_exporter": "python",
   "pygments_lexer": "ipython3",
   "version": "3.10.16"
  }
 },
 "nbformat": 4,
 "nbformat_minor": 2
}
