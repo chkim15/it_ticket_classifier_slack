{
 "cells": [
  {
   "cell_type": "markdown",
   "metadata": {},
   "source": [
    "**Connect to Snowflake**"
   ]
  },
  {
   "cell_type": "code",
   "execution_count": null,
   "metadata": {},
   "outputs": [
    {
     "ename": "ModuleNotFoundError",
     "evalue": "No module named 'snowflake'",
     "output_type": "error",
     "traceback": [
      "\u001b[0;31m---------------------------------------------------------------------------\u001b[0m",
      "\u001b[0;31mModuleNotFoundError\u001b[0m                       Traceback (most recent call last)",
      "Cell \u001b[0;32mIn[7], line 3\u001b[0m\n\u001b[1;32m      1\u001b[0m \u001b[38;5;66;03m# Install snowflake connector: pip install snowflake-connector-python\u001b[39;00m\n\u001b[1;32m      2\u001b[0m \u001b[38;5;66;03m# from snowflake.connector.pandas_tools import write_pandas\u001b[39;00m\n\u001b[0;32m----> 3\u001b[0m \u001b[38;5;28;01mimport\u001b[39;00m \u001b[38;5;21;01msnowflake\u001b[39;00m\u001b[38;5;21;01m.\u001b[39;00m\u001b[38;5;21;01mconnector\u001b[39;00m \u001b[38;5;28;01mas\u001b[39;00m \u001b[38;5;21;01msnow\u001b[39;00m\n\u001b[1;32m      4\u001b[0m \u001b[38;5;28;01mimport\u001b[39;00m \u001b[38;5;21;01mpandas\u001b[39;00m \u001b[38;5;28;01mas\u001b[39;00m \u001b[38;5;21;01mpd\u001b[39;00m\n\u001b[1;32m      5\u001b[0m \u001b[38;5;28;01mimport\u001b[39;00m \u001b[38;5;21;01mre\u001b[39;00m\n",
      "\u001b[0;31mModuleNotFoundError\u001b[0m: No module named 'snowflake'"
     ]
    }
   ],
   "source": [
    "# Install snowflake connector: pip install snowflake-connector-python\n",
    "from snowflake.connector.pandas_tools import write_pandas\n",
    "import snowflake.connector as snow\n",
    "import pandas as pd\n",
    "import re\n",
    "import os\n",
    "from tqdm import tqdm\n",
    "import numpy as np\n",
    "\n",
    "# Be aware that MFA will be triggered\n",
    "print(\"Connecting, please check for any MFA notifications.\")\n",
    "\n",
    "# Create a snowflake connection\n",
    "conn = snow.connect(\n",
    "user=\"username\", # Replace with your username\n",
    "password=\"password\", # Replace with your password\n",
    "account=\"account\",\n",
    "warehouse=\"DEFAULT_WAREHOUSE\",\n",
    "database=\"CLASS_DATABASE\",\n",
    "schema=\"ANALYSIS\")"
   ]
  },
  {
   "cell_type": "markdown",
   "metadata": {},
   "source": [
    "**Data Pre-Processing with SQL**\n",
    "1. Drop conversation start with OUT direction (i.e. Agent to User messages)\n",
    "2. Drop conversation with one direction (i.e. conversations that were initiated but never continued)"
   ]
  },
  {
   "cell_type": "code",
   "execution_count": 2,
   "metadata": {},
   "outputs": [
    {
     "data": {
      "text/plain": [
       "<snowflake.connector.cursor.SnowflakeCursor at 0x219939a6360>"
      ]
     },
     "execution_count": 2,
     "metadata": {},
     "output_type": "execute_result"
    }
   ],
   "source": [
    "cur = conn.cursor()\n",
    "\n",
    "cur.execute(\"\"\"\n",
    "CREATE TABLE IF NOT EXISTS CLEAN_DATA_Final as( \n",
    "WITH first_messages AS (\n",
    "    -- Identify the first message in each conversation\n",
    "    SELECT \n",
    "        CONVERSATION_ID,\n",
    "        MESSAGE_ID,\n",
    "        MESSAGE,\n",
    "        MESSAGE_DIRECTION,\n",
    "        SENT_AT,\n",
    "        ROW_NUMBER() OVER (PARTITION BY CONVERSATION_ID ORDER BY SENT_AT ASC) AS row_num\n",
    "    FROM class_shared_data.class_dataset.message_dataset\n",
    "),\n",
    "conversations_starts_with_OUT AS (\n",
    "    -- Select conversations where the first message is OUT-bound\n",
    "    SELECT CONVERSATION_ID\n",
    "    FROM first_messages\n",
    "    WHERE MESSAGE_DIRECTION = 'Out' AND row_num = 1\n",
    "),\n",
    "conversations_with_one_direction AS (\n",
    "    -- Select conversations with only one message direction (IN or OUT)\n",
    "    SELECT CONVERSATION_ID\n",
    "    FROM class_shared_data.class_dataset.message_dataset\n",
    "    GROUP BY CONVERSATION_ID\n",
    "    HAVING COUNT(DISTINCT MESSAGE_DIRECTION) = 1\n",
    "),\n",
    "\n",
    "conversations_to_remove AS (\n",
    "    -- Combine conversations to be removed based on above criteria\n",
    "    SELECT CONVERSATION_ID FROM conversations_with_one_direction\n",
    "    UNION\n",
    "    SELECT CONVERSATION_ID FROM conversations_starts_with_OUT\n",
    "),\n",
    "\n",
    "filtered_messages AS (\n",
    "    -- Filter messages that are not part of conversations to be removed\n",
    "    SELECT *\n",
    "    FROM class_shared_data.class_dataset.message_dataset\n",
    "    WHERE CONVERSATION_ID NOT IN (\n",
    "        SELECT CONVERSATION_ID\n",
    "        FROM conversations_to_remove\n",
    "    )\n",
    "),\n",
    "\n",
    "messages_with_directions AS (\n",
    "    -- Concatenate MESSAGE_DIRECTION and MESSAGE for aggregation\n",
    "    SELECT \n",
    "        CONVERSATION_ID,\n",
    "        CONCAT(MESSAGE_DIRECTION, ':.,', MESSAGE) AS formatted_message,\n",
    "        SENT_AT\n",
    "    FROM filtered_messages\n",
    "),\n",
    "\n",
    "aggregated_messages AS (\n",
    "    -- Aggregate the messages in order of SENT_AT for each conversation\n",
    "    SELECT \n",
    "        CONVERSATION_ID,\n",
    "        MIN(SENT_AT) AS SENT_AT,\n",
    "        LISTAGG(formatted_message, '\\n') WITHIN GROUP (ORDER BY SENT_AT) AS conversation_messages\n",
    "    FROM messages_with_directions\n",
    "    GROUP BY CONVERSATION_ID\n",
    ")\n",
    "\n",
    "SELECT \n",
    "    conv.CONVERSATION_ID,\n",
    "    agg.conversation_messages, \n",
    "    conv.CONVERSATION_CHANNEL,\n",
    "    conv.AGENT_LABELED_CATEGORY,\n",
    "    conv.AGENT_LABELED_APPLICATION,\n",
    "    conv.USER_LABELED_CATEGORY,\n",
    "    conv.TRIAGE_MESSAGES,\n",
    "    agg.SENT_AT    \n",
    "FROM class_shared_data.class_dataset.conversation_dataset AS conv\n",
    "JOIN aggregated_messages AS agg\n",
    "    ON conv.CONVERSATION_ID = agg.CONVERSATION_ID)\n",
    "\"\"\")"
   ]
  },
  {
   "cell_type": "code",
   "execution_count": 3,
   "metadata": {},
   "outputs": [],
   "source": [
    "# Read the data from the table created above\n",
    "cur = conn.cursor()\n",
    "cur.execute(\"\"\"\n",
    "select * from CLEAN_DATA_Final   -- Match the table name with the one you created\n",
    "\"\"\")\n",
    "\n",
    "# Fetch all the results from the query\n",
    "results = cur.fetchall()\n",
    "\n",
    "# Get the column names from the cursor description\n",
    "column_names = [desc[0] for desc in cur.description]\n",
    "\n",
    "# Convert the results into DataFrame\n",
    "combined_data = pd.DataFrame(results, columns=column_names)"
   ]
  },
  {
   "cell_type": "markdown",
   "metadata": {},
   "source": [
    "**Check the Data**"
   ]
  },
  {
   "cell_type": "code",
   "execution_count": 4,
   "metadata": {},
   "outputs": [
    {
     "data": {
      "text/html": [
       "<div>\n",
       "<style scoped>\n",
       "    .dataframe tbody tr th:only-of-type {\n",
       "        vertical-align: middle;\n",
       "    }\n",
       "\n",
       "    .dataframe tbody tr th {\n",
       "        vertical-align: top;\n",
       "    }\n",
       "\n",
       "    .dataframe thead th {\n",
       "        text-align: right;\n",
       "    }\n",
       "</style>\n",
       "<table border=\"1\" class=\"dataframe\">\n",
       "  <thead>\n",
       "    <tr style=\"text-align: right;\">\n",
       "      <th></th>\n",
       "      <th>CONVERSATION_ID</th>\n",
       "      <th>CONVERSATION_MESSAGES</th>\n",
       "      <th>CONVERSATION_CHANNEL</th>\n",
       "      <th>AGENT_LABELED_CATEGORY</th>\n",
       "      <th>AGENT_LABELED_APPLICATION</th>\n",
       "      <th>USER_LABELED_CATEGORY</th>\n",
       "      <th>TRIAGE_MESSAGES</th>\n",
       "      <th>SENT_AT</th>\n",
       "    </tr>\n",
       "  </thead>\n",
       "  <tbody>\n",
       "    <tr>\n",
       "      <th>0</th>\n",
       "      <td>4bc9d6ac597672e3801d6160a03d62cae1f3ac07</td>\n",
       "      <td>In:., From:    HIDDEN_EMAIL Date:    Tue, 25 J...</td>\n",
       "      <td>email</td>\n",
       "      <td>None</td>\n",
       "      <td>None</td>\n",
       "      <td>None</td>\n",
       "      <td>None</td>\n",
       "      <td>2022-01-25 19:20:54.967 Z</td>\n",
       "    </tr>\n",
       "    <tr>\n",
       "      <th>1</th>\n",
       "      <td>31b582d4e3156a062479bd96a660a269b19dcad3</td>\n",
       "      <td>In:.,Below is the one-time password for loggin...</td>\n",
       "      <td>email</td>\n",
       "      <td>None</td>\n",
       "      <td>None</td>\n",
       "      <td>non_request_interaction</td>\n",
       "      <td>None</td>\n",
       "      <td>2021-09-08 13:05:50.000 Z</td>\n",
       "    </tr>\n",
       "    <tr>\n",
       "      <th>2</th>\n",
       "      <td>7ff7673238c978597a38a1a3226ee3c2ebe2a361</td>\n",
       "      <td>In:.,hi there! can you please send me a secure...</td>\n",
       "      <td>chat</td>\n",
       "      <td>None</td>\n",
       "      <td>None</td>\n",
       "      <td>sysadmin_task.password_reset</td>\n",
       "      <td>None</td>\n",
       "      <td>2022-01-03 18:38:05.518 Z</td>\n",
       "    </tr>\n",
       "    <tr>\n",
       "      <th>3</th>\n",
       "      <td>8c59b90503261f88dc8302408a3b2012b307723b</td>\n",
       "      <td>In:.,We had a new hire start on Thursday. I wa...</td>\n",
       "      <td>chat</td>\n",
       "      <td>workstation.provision.new_provision</td>\n",
       "      <td>None</td>\n",
       "      <td>None</td>\n",
       "      <td>[SYSTEM MESSAGE] **Request overview**\\n       ...</td>\n",
       "      <td>2022-02-02 18:23:03.154 Z</td>\n",
       "    </tr>\n",
       "    <tr>\n",
       "      <th>4</th>\n",
       "      <td>cb95a74dbeb7e18fd4ce57fd1ffd7882e77d3765</td>\n",
       "      <td>In:.,Hi! I'm trying to register my laptops wit...</td>\n",
       "      <td>chat</td>\n",
       "      <td>workstation.mdm_policy.enroll_device</td>\n",
       "      <td>None</td>\n",
       "      <td>None</td>\n",
       "      <td>[SYSTEM MESSAGE] **Request overview**\\n       ...</td>\n",
       "      <td>2022-07-21 16:37:23.071 Z</td>\n",
       "    </tr>\n",
       "  </tbody>\n",
       "</table>\n",
       "</div>"
      ],
      "text/plain": [
       "                            CONVERSATION_ID  \\\n",
       "0  4bc9d6ac597672e3801d6160a03d62cae1f3ac07   \n",
       "1  31b582d4e3156a062479bd96a660a269b19dcad3   \n",
       "2  7ff7673238c978597a38a1a3226ee3c2ebe2a361   \n",
       "3  8c59b90503261f88dc8302408a3b2012b307723b   \n",
       "4  cb95a74dbeb7e18fd4ce57fd1ffd7882e77d3765   \n",
       "\n",
       "                               CONVERSATION_MESSAGES CONVERSATION_CHANNEL  \\\n",
       "0  In:., From:    HIDDEN_EMAIL Date:    Tue, 25 J...                email   \n",
       "1  In:.,Below is the one-time password for loggin...                email   \n",
       "2  In:.,hi there! can you please send me a secure...                 chat   \n",
       "3  In:.,We had a new hire start on Thursday. I wa...                 chat   \n",
       "4  In:.,Hi! I'm trying to register my laptops wit...                 chat   \n",
       "\n",
       "                 AGENT_LABELED_CATEGORY AGENT_LABELED_APPLICATION  \\\n",
       "0                                  None                      None   \n",
       "1                                  None                      None   \n",
       "2                                  None                      None   \n",
       "3   workstation.provision.new_provision                      None   \n",
       "4  workstation.mdm_policy.enroll_device                      None   \n",
       "\n",
       "          USER_LABELED_CATEGORY  \\\n",
       "0                          None   \n",
       "1       non_request_interaction   \n",
       "2  sysadmin_task.password_reset   \n",
       "3                          None   \n",
       "4                          None   \n",
       "\n",
       "                                     TRIAGE_MESSAGES  \\\n",
       "0                                               None   \n",
       "1                                               None   \n",
       "2                                               None   \n",
       "3  [SYSTEM MESSAGE] **Request overview**\\n       ...   \n",
       "4  [SYSTEM MESSAGE] **Request overview**\\n       ...   \n",
       "\n",
       "                     SENT_AT  \n",
       "0  2022-01-25 19:20:54.967 Z  \n",
       "1  2021-09-08 13:05:50.000 Z  \n",
       "2  2022-01-03 18:38:05.518 Z  \n",
       "3  2022-02-02 18:23:03.154 Z  \n",
       "4  2022-07-21 16:37:23.071 Z  "
      ]
     },
     "execution_count": 4,
     "metadata": {},
     "output_type": "execute_result"
    }
   ],
   "source": [
    "combined_data.head()"
   ]
  },
  {
   "cell_type": "code",
   "execution_count": 5,
   "metadata": {},
   "outputs": [
    {
     "name": "stdout",
     "output_type": "stream",
     "text": [
      "<class 'pandas.core.frame.DataFrame'>\n",
      "RangeIndex: 484034 entries, 0 to 484033\n",
      "Data columns (total 8 columns):\n",
      " #   Column                     Non-Null Count   Dtype \n",
      "---  ------                     --------------   ----- \n",
      " 0   CONVERSATION_ID            484034 non-null  object\n",
      " 1   CONVERSATION_MESSAGES      484034 non-null  object\n",
      " 2   CONVERSATION_CHANNEL       484034 non-null  object\n",
      " 3   AGENT_LABELED_CATEGORY     380687 non-null  object\n",
      " 4   AGENT_LABELED_APPLICATION  126326 non-null  object\n",
      " 5   USER_LABELED_CATEGORY      72154 non-null   object\n",
      " 6   TRIAGE_MESSAGES            215792 non-null  object\n",
      " 7   SENT_AT                    484034 non-null  object\n",
      "dtypes: object(8)\n",
      "memory usage: 29.5+ MB\n"
     ]
    }
   ],
   "source": [
    "combined_data.info()"
   ]
  },
  {
   "cell_type": "code",
   "execution_count": 6,
   "metadata": {},
   "outputs": [
    {
     "data": {
      "text/plain": [
       "CONVERSATION_ID                   0\n",
       "CONVERSATION_MESSAGES             0\n",
       "CONVERSATION_CHANNEL              0\n",
       "AGENT_LABELED_CATEGORY       103347\n",
       "AGENT_LABELED_APPLICATION    357708\n",
       "USER_LABELED_CATEGORY        411880\n",
       "TRIAGE_MESSAGES              268242\n",
       "SENT_AT                           0\n",
       "dtype: int64"
      ]
     },
     "execution_count": 6,
     "metadata": {},
     "output_type": "execute_result"
    }
   ],
   "source": [
    "# Check NAs\n",
    "combined_data.isna().sum()"
   ]
  },
  {
   "cell_type": "markdown",
   "metadata": {},
   "source": [
    "**Keep Only the Initial Messages from User**\n",
    "1. Remove any messages starting from the agent's first response (i.e. messages that come after \"Out:.,\")\n",
    "2. Delete \"In:.,\" from remaining messages (because all of them now should be In messages)\n",
    "3. Remove the conversations with less than 10 words (to remove conversations with only \"Hello\", \"Hi\", etc.)"
   ]
  },
  {
   "cell_type": "code",
   "execution_count": 7,
   "metadata": {},
   "outputs": [
    {
     "name": "stdout",
     "output_type": "stream",
     "text": [
      "Shape of combined_data:  (484034, 8)\n",
      "Shape of combined_data_10:  (351087, 8)\n"
     ]
    }
   ],
   "source": [
    "# Remove anything that comes after \"Out:.,\"\n",
    "combined_data['CONVERSATION_MESSAGES'] = combined_data['CONVERSATION_MESSAGES'].str.split('Out:.,').str[0]\n",
    "\n",
    "# Delete \"In:\" \n",
    "combined_data['CONVERSATION_MESSAGES'] = combined_data['CONVERSATION_MESSAGES'].str.replace('In:.,', '')\n",
    "\n",
    "# Replace '\\n， \\r' with ''\n",
    "def remove_single_letter_backslash(text):\n",
    "    return re.sub(r'\\n|\\r', ' ', text)\n",
    "combined_data['CONVERSATION_MESSAGES'] = combined_data['CONVERSATION_MESSAGES'].apply(remove_single_letter_backslash)\n",
    "\n",
    "# Remove conversations with less than 10 words\n",
    "combined_data_10 = combined_data[combined_data['CONVERSATION_MESSAGES']\n",
    "           .str.replace(r'[^\\w\\s]', '', regex=True)  \n",
    "           .str.split()\n",
    "           .str.len() >= 10]\n",
    "\n",
    "print('Shape of combined_data: ', combined_data.shape)\n",
    "print('Shape of combined_data_10: ', combined_data_10.shape)"
   ]
  },
  {
   "cell_type": "markdown",
   "metadata": {},
   "source": [
    "**Add Simplified Category (i.e. Automatable Categories + Other (Not Automatable))**"
   ]
  },
  {
   "cell_type": "code",
   "execution_count": null,
   "metadata": {},
   "outputs": [],
   "source": [
    "# Read Excel file that contains simplified categories\n",
    "df_ticket_category = pd.read_excel('simplified_categories.xlsx')\n",
    "\n",
    "# remain column: AGENT_LABELED_CATEGORY, SIMPLIFIED_CATEGORY\n",
    "df_ticket_category = df_ticket_category[['AGENT_LABELED_CATEGORY', 'SIMPLIFIED_CATEGORY']]\n",
    "\n",
    "# fill in missing values in SIMPLIFIED_CATEGORY as OTHER\n",
    "df_ticket_category['SIMPLIFIED_CATEGORY'] = df_ticket_category['SIMPLIFIED_CATEGORY'].fillna('OTHER')"
   ]
  },
  {
   "cell_type": "code",
   "execution_count": 10,
   "metadata": {},
   "outputs": [
    {
     "data": {
      "text/plain": [
       "SIMPLIFIED_CATEGORY\n",
       "OTHER                                              201\n",
       "UNKNOWN                                              5\n",
       "os_update                                            2\n",
       "add_user_to_channel OR remove_user_from_channel      2\n",
       "add_license OR remove_license                        2\n",
       "shipping_request                                     2\n",
       "add_user_to_group OR remove_user_from_group          2\n",
       "add_user OR remove_user                              1\n",
       "password_reset                                       1\n",
       "reset_mfa                                            1\n",
       "Name: count, dtype: int64"
      ]
     },
     "execution_count": 10,
     "metadata": {},
     "output_type": "execute_result"
    }
   ],
   "source": [
    "df_ticket_category['SIMPLIFIED_CATEGORY'].value_counts()"
   ]
  },
  {
   "cell_type": "code",
   "execution_count": 11,
   "metadata": {},
   "outputs": [],
   "source": [
    "# Convert UNKNOWN to OTHER\n",
    "df_ticket_category['SIMPLIFIED_CATEGORY'] = df_ticket_category['SIMPLIFIED_CATEGORY'].replace('Unknown', 'OTHER')\n",
    "\n",
    "# Replace the AGENT_LABELED_CATEGORY in df_10 with SIMPLIFIED_CATEGORY in df_ticket\n",
    "combined_data_10 = pd.merge(combined_data_10, df_ticket_category, on='AGENT_LABELED_CATEGORY', how='left')"
   ]
  },
  {
   "cell_type": "code",
   "execution_count": 12,
   "metadata": {},
   "outputs": [
    {
     "data": {
      "text/html": [
       "<div>\n",
       "<style scoped>\n",
       "    .dataframe tbody tr th:only-of-type {\n",
       "        vertical-align: middle;\n",
       "    }\n",
       "\n",
       "    .dataframe tbody tr th {\n",
       "        vertical-align: top;\n",
       "    }\n",
       "\n",
       "    .dataframe thead th {\n",
       "        text-align: right;\n",
       "    }\n",
       "</style>\n",
       "<table border=\"1\" class=\"dataframe\">\n",
       "  <thead>\n",
       "    <tr style=\"text-align: right;\">\n",
       "      <th></th>\n",
       "      <th>CONVERSATION_ID</th>\n",
       "      <th>CONVERSATION_MESSAGES</th>\n",
       "      <th>CONVERSATION_CHANNEL</th>\n",
       "      <th>AGENT_LABELED_CATEGORY</th>\n",
       "      <th>AGENT_LABELED_APPLICATION</th>\n",
       "      <th>USER_LABELED_CATEGORY</th>\n",
       "      <th>TRIAGE_MESSAGES</th>\n",
       "      <th>SENT_AT</th>\n",
       "      <th>SIMPLIFIED_CATEGORY</th>\n",
       "    </tr>\n",
       "  </thead>\n",
       "  <tbody>\n",
       "    <tr>\n",
       "      <th>0</th>\n",
       "      <td>4bc9d6ac597672e3801d6160a03d62cae1f3ac07</td>\n",
       "      <td>From:    HIDDEN_EMAIL Date:    Tue, 25 Jan 20...</td>\n",
       "      <td>email</td>\n",
       "      <td>None</td>\n",
       "      <td>None</td>\n",
       "      <td>None</td>\n",
       "      <td>None</td>\n",
       "      <td>2022-01-25 19:20:54.967 Z</td>\n",
       "      <td>NaN</td>\n",
       "    </tr>\n",
       "    <tr>\n",
       "      <th>1</th>\n",
       "      <td>31b582d4e3156a062479bd96a660a269b19dcad3</td>\n",
       "      <td>Below is the one-time password for logging int...</td>\n",
       "      <td>email</td>\n",
       "      <td>None</td>\n",
       "      <td>None</td>\n",
       "      <td>non_request_interaction</td>\n",
       "      <td>None</td>\n",
       "      <td>2021-09-08 13:05:50.000 Z</td>\n",
       "      <td>NaN</td>\n",
       "    </tr>\n",
       "    <tr>\n",
       "      <th>2</th>\n",
       "      <td>7ff7673238c978597a38a1a3226ee3c2ebe2a361</td>\n",
       "      <td>hi there! can you please send me a secure link...</td>\n",
       "      <td>chat</td>\n",
       "      <td>None</td>\n",
       "      <td>None</td>\n",
       "      <td>sysadmin_task.password_reset</td>\n",
       "      <td>None</td>\n",
       "      <td>2022-01-03 18:38:05.518 Z</td>\n",
       "      <td>NaN</td>\n",
       "    </tr>\n",
       "    <tr>\n",
       "      <th>3</th>\n",
       "      <td>8c59b90503261f88dc8302408a3b2012b307723b</td>\n",
       "      <td>We had a new hire start on Thursday. I was wor...</td>\n",
       "      <td>chat</td>\n",
       "      <td>workstation.provision.new_provision</td>\n",
       "      <td>None</td>\n",
       "      <td>None</td>\n",
       "      <td>[SYSTEM MESSAGE] **Request overview**\\n       ...</td>\n",
       "      <td>2022-02-02 18:23:03.154 Z</td>\n",
       "      <td>OTHER</td>\n",
       "    </tr>\n",
       "    <tr>\n",
       "      <th>4</th>\n",
       "      <td>cb95a74dbeb7e18fd4ce57fd1ffd7882e77d3765</td>\n",
       "      <td>Hi! I'm trying to register my laptops with ele...</td>\n",
       "      <td>chat</td>\n",
       "      <td>workstation.mdm_policy.enroll_device</td>\n",
       "      <td>None</td>\n",
       "      <td>None</td>\n",
       "      <td>[SYSTEM MESSAGE] **Request overview**\\n       ...</td>\n",
       "      <td>2022-07-21 16:37:23.071 Z</td>\n",
       "      <td>OTHER</td>\n",
       "    </tr>\n",
       "  </tbody>\n",
       "</table>\n",
       "</div>"
      ],
      "text/plain": [
       "                            CONVERSATION_ID  \\\n",
       "0  4bc9d6ac597672e3801d6160a03d62cae1f3ac07   \n",
       "1  31b582d4e3156a062479bd96a660a269b19dcad3   \n",
       "2  7ff7673238c978597a38a1a3226ee3c2ebe2a361   \n",
       "3  8c59b90503261f88dc8302408a3b2012b307723b   \n",
       "4  cb95a74dbeb7e18fd4ce57fd1ffd7882e77d3765   \n",
       "\n",
       "                               CONVERSATION_MESSAGES CONVERSATION_CHANNEL  \\\n",
       "0   From:    HIDDEN_EMAIL Date:    Tue, 25 Jan 20...                email   \n",
       "1  Below is the one-time password for logging int...                email   \n",
       "2  hi there! can you please send me a secure link...                 chat   \n",
       "3  We had a new hire start on Thursday. I was wor...                 chat   \n",
       "4  Hi! I'm trying to register my laptops with ele...                 chat   \n",
       "\n",
       "                 AGENT_LABELED_CATEGORY AGENT_LABELED_APPLICATION  \\\n",
       "0                                  None                      None   \n",
       "1                                  None                      None   \n",
       "2                                  None                      None   \n",
       "3   workstation.provision.new_provision                      None   \n",
       "4  workstation.mdm_policy.enroll_device                      None   \n",
       "\n",
       "          USER_LABELED_CATEGORY  \\\n",
       "0                          None   \n",
       "1       non_request_interaction   \n",
       "2  sysadmin_task.password_reset   \n",
       "3                          None   \n",
       "4                          None   \n",
       "\n",
       "                                     TRIAGE_MESSAGES  \\\n",
       "0                                               None   \n",
       "1                                               None   \n",
       "2                                               None   \n",
       "3  [SYSTEM MESSAGE] **Request overview**\\n       ...   \n",
       "4  [SYSTEM MESSAGE] **Request overview**\\n       ...   \n",
       "\n",
       "                     SENT_AT SIMPLIFIED_CATEGORY  \n",
       "0  2022-01-25 19:20:54.967 Z                 NaN  \n",
       "1  2021-09-08 13:05:50.000 Z                 NaN  \n",
       "2  2022-01-03 18:38:05.518 Z                 NaN  \n",
       "3  2022-02-02 18:23:03.154 Z               OTHER  \n",
       "4  2022-07-21 16:37:23.071 Z               OTHER  "
      ]
     },
     "execution_count": 12,
     "metadata": {},
     "output_type": "execute_result"
    }
   ],
   "source": [
    "combined_data_10.head()"
   ]
  },
  {
   "cell_type": "code",
   "execution_count": 13,
   "metadata": {},
   "outputs": [],
   "source": [
    "combined_data_10 = combined_data_10[['CONVERSATION_ID','CONVERSATION_CHANNEL', 'AGENT_LABELED_APPLICATION','TRIAGE_MESSAGES', 'AGENT_LABELED_CATEGORY', 'SIMPLIFIED_CATEGORY', 'CONVERSATION_MESSAGES']]"
   ]
  },
  {
   "cell_type": "markdown",
   "metadata": {},
   "source": [
    "**Extract Relevant Data from TRIAGE_MESSAGES**"
   ]
  },
  {
   "cell_type": "code",
   "execution_count": 14,
   "metadata": {},
   "outputs": [
    {
     "name": "stdout",
     "output_type": "stream",
     "text": [
      "<class 'pandas.core.frame.DataFrame'>\n",
      "RangeIndex: 351087 entries, 0 to 351086\n",
      "Data columns (total 7 columns):\n",
      " #   Column                     Non-Null Count   Dtype \n",
      "---  ------                     --------------   ----- \n",
      " 0   CONVERSATION_ID            351087 non-null  object\n",
      " 1   CONVERSATION_CHANNEL       351087 non-null  object\n",
      " 2   AGENT_LABELED_APPLICATION  89608 non-null   object\n",
      " 3   TRIAGE_MESSAGES            143870 non-null  object\n",
      " 4   AGENT_LABELED_CATEGORY     262628 non-null  object\n",
      " 5   SIMPLIFIED_CATEGORY        262628 non-null  object\n",
      " 6   CONVERSATION_MESSAGES      351087 non-null  object\n",
      "dtypes: object(7)\n",
      "memory usage: 18.8+ MB\n"
     ]
    }
   ],
   "source": [
    "combined_data_10.info()"
   ]
  },
  {
   "cell_type": "code",
   "execution_count": 15,
   "metadata": {},
   "outputs": [],
   "source": [
    "TRIAGE_message = combined_data_10['TRIAGE_MESSAGES']"
   ]
  },
  {
   "cell_type": "code",
   "execution_count": 16,
   "metadata": {},
   "outputs": [
    {
     "data": {
      "text/plain": [
       "TRIAGE_MESSAGES\n",
       "[SYSTEM MESSAGE] **Request overview**\\n                \\n**Request type*      117556\n",
       "[SYSTEM MESSAGE] **Request overview**\\n                \\n**What can we h       24219\n",
       "[SYSTEM MESSAGE]‎‎\\n                \\n\\n**Request overview**\\n                  2094\n",
       "[SYSTEM MESSAGE] **Request ******************** **********************             1\n",
       "Name: count, dtype: int64"
      ]
     },
     "execution_count": 16,
     "metadata": {},
     "output_type": "execute_result"
    }
   ],
   "source": [
    "# Check TRIAGE_message format types\n",
    "TRIAGE_message_first_70 = TRIAGE_message.str[:70]\n",
    "TRIAGE_message_first_70.value_counts()"
   ]
  },
  {
   "cell_type": "code",
   "execution_count": 17,
   "metadata": {},
   "outputs": [
    {
     "name": "stdout",
     "output_type": "stream",
     "text": [
      "[SYSTEM MESSAGE] **Request overview**\n",
      "                \n",
      "**Request type**\n",
      " **                \n",
      "**Are those affected able to work?**\n",
      " **                \n",
      "**Additional details**\n",
      " need ********** name and password to use zoom\n"
     ]
    }
   ],
   "source": [
    "# First type of triage message \n",
    "# extract information we need \n",
    "print(combined_data_10[combined_data_10['CONVERSATION_ID'] == '2a3025b0bc2acdbc5706282a64e87be1193c8768']['TRIAGE_MESSAGES'].values[0])\n",
    "# Useful information:  Request type, Additiuonal details."
   ]
  },
  {
   "cell_type": "code",
   "execution_count": 18,
   "metadata": {},
   "outputs": [
    {
     "name": "stdout",
     "output_type": "stream",
     "text": [
      "[SYSTEM MESSAGE] **Request overview**\n",
      "                \n",
      "**What can we help you with?**\n",
      " Something is not working\n",
      "                \n",
      "**How many users need assistance?**\n",
      " One User\n",
      "                \n",
      "**Can users currently work?**\n",
      " Work is not ******** or blocked\n",
      "                \n",
      "**What do you need assistance with?**\n",
      " Login issue\n",
      "                \n",
      "**Additional details**\n",
      " i just reset the computer for a new user and i am still seeing the old username log in\n"
     ]
    }
   ],
   "source": [
    "# Second type of triage message\n",
    "print(combined_data_10[combined_data_10['CONVERSATION_ID'] == '23ba5c0004b4e6c230290e1f599d25e87f2ff0e0']['TRIAGE_MESSAGES'].values[0])\n",
    "# Useful information: What can we help you with?, What do you need assistance with?, Additional details."
   ]
  },
  {
   "cell_type": "code",
   "execution_count": null,
   "metadata": {},
   "outputs": [],
   "source": [
    "def extract_info(text):\n",
    "    if text is None:\n",
    "        return ''\n",
    "    \n",
    "    if text == '':\n",
    "        return ''\n",
    "    \n",
    "    # Extract from the first type\n",
    "    if '**Request type**' in text:\n",
    "        request_type_match = re.search(r'\\*\\*Request type\\*\\*\\n (.+)', text)\n",
    "        additional_details_match = re.search(r'\\*\\*Additional details\\*\\*\\n (.+)', text)\n",
    "        request_type = request_type_match.group(1) if request_type_match else ''\n",
    "        additional_details = additional_details_match.group(1) if additional_details_match else ''\n",
    "        return f\"My request type is {request_type}, There are some additional detail which is {additional_details}\"\n",
    "    \n",
    "    # Extract from the second type\n",
    "    elif '**What can we help you with?**' in text:\n",
    "        help_match = re.search(r'\\*\\*What can we help you with\\?\\*\\*\\n (.+)', text)\n",
    "        assistance_match = re.search(r'\\*\\*What do you need assistance with\\?\\*\\*\\n (.+)', text)\n",
    "        additional_details_match = re.search(r'\\*\\*Additional details\\*\\*\\n (.+)', text)\n",
    "        help_info = help_match.group(1) if help_match else ''\n",
    "        assistance_info = assistance_match.group(1) if assistance_match else ''\n",
    "        additional_details = additional_details_match.group(1) if additional_details_match else ''\n",
    "        return f\"I want you to help me with {help_info}. I want you to assist me with {assistance_info}. There are some additional details that {additional_details}\"\n",
    "    \n",
    "    return ''\n",
    "\n",
    "# Apply the function to the DataFrame\n",
    "combined_data_10['Extracted_TRIAGE'] = combined_data_10['TRIAGE_MESSAGES'].apply(extract_info)"
   ]
  },
  {
   "cell_type": "code",
   "execution_count": null,
   "metadata": {},
   "outputs": [],
   "source": [
    "# Combine Extracted_TRIAGE and CONVERSATION_MESSAGES\n",
    "combined_data_10['MESSAGE_PLUS_TRIAGE'] = combined_data_10['Extracted_TRIAGE'] + ' ' + combined_data_10['CONVERSATION_MESSAGES']"
   ]
  },
  {
   "cell_type": "markdown",
   "metadata": {},
   "source": [
    "**Upload Final Dataset to Snowflake**"
   ]
  },
  {
   "cell_type": "code",
   "execution_count": null,
   "metadata": {},
   "outputs": [
    {
     "data": {
      "text/plain": [
       "(True,\n",
       " 1,\n",
       " 351087,\n",
       " [('iqttpyrsph/file0.txt',\n",
       "   'LOADED',\n",
       "   351087,\n",
       "   351087,\n",
       "   1,\n",
       "   0,\n",
       "   None,\n",
       "   None,\n",
       "   None,\n",
       "   None)])"
      ]
     },
     "execution_count": 21,
     "metadata": {},
     "output_type": "execute_result"
    }
   ],
   "source": [
    "# Match the table name with the name you created in the beginning\n",
    "write_pandas(conn, combined_data_10, \"CLEAN_DATA_10WORDS_FINAL\", auto_create_table=True)"
   ]
  },
  {
   "cell_type": "markdown",
   "metadata": {},
   "source": [
    "**Get Snowflake Embedding (multilingual-e5-large)**"
   ]
  },
  {
   "cell_type": "code",
   "execution_count": 22,
   "metadata": {},
   "outputs": [
    {
     "data": {
      "text/plain": [
       "<snowflake.connector.cursor.SnowflakeCursor at 0x21a324836b0>"
      ]
     },
     "execution_count": 22,
     "metadata": {},
     "output_type": "execute_result"
    }
   ],
   "source": [
    "cur = conn.cursor()\n",
    "cur.execute(\"\"\"\n",
    "CREATE TABLE SNOWFLAKE_EMBEDDING_TRIAGE_FINAL AS\n",
    "select CONVERSATION_ID, SIMPLIFIED_CATEGORY,CONVERSATION_CHANNEL,MESSAGE_PLUS_TRIAGE ,\n",
    "SNOWFLAKE.CORTEX.EMBED_TEXT_1024( 'multilingual-e5-large', MESSAGE_PLUS_TRIAGE ) as multilingual_e5large_embedding,\n",
    "from CLEAN_DATA_10WORDS_Final\n",
    "\"\"\")"
   ]
  }
 ],
 "metadata": {
  "kernelspec": {
   "display_name": "Python 3",
   "language": "python",
   "name": "python3"
  },
  "language_info": {
   "codemirror_mode": {
    "name": "ipython",
    "version": 3
   },
   "file_extension": ".py",
   "mimetype": "text/x-python",
   "name": "python",
   "nbconvert_exporter": "python",
   "pygments_lexer": "ipython3",
   "version": "3.10.16"
  }
 },
 "nbformat": 4,
 "nbformat_minor": 2
}
